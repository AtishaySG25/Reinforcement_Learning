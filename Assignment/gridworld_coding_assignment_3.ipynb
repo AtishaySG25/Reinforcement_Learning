{
 "cells": [
  {
   "cell_type": "code",
   "execution_count": 18,
   "metadata": {},
   "outputs": [],
   "source": [
    "import itertools\n",
    "import numpy as np\n",
    "import pandas as pd\n",
    "import random\n",
    "import seaborn as sns\n",
    "import matplotlib.pyplot as plt"
   ]
  },
  {
   "cell_type": "markdown",
   "metadata": {},
   "source": [
    "|   | 0   | 1   | 2   | 3   | 4   | 5   | 6   | 7   | 8   | 9   | 10    |   \n",
    "|---|-----|-----|-----|-----|-----|-----|-----|-----|-----|-----|-------|\n",
    "| 0 |     |     |     |     |     |     |     |     |     |     |       |\n",
    "| 1 |     |     |     |     |     |     |     |     |     |     |       |\n",
    "| 2 |     |     |     |     |     |     |     |     |     |     |       |\n",
    "| 3 |     | end |     |     |     |     |     |     |     |     |       |\n",
    "| 4 |     |     |     |     |     |     |     |     |     |     |       |\n",
    "| 5 |     |     |     | end |     |     |     |     |     |     |       |\n",
    "| 6 |     |     |     |     |     |     |     |     |     |     |       |\n",
    "| 7 |     |     |     |     |     |     |     |     |     |     |       |"
   ]
  },
  {
   "cell_type": "code",
   "execution_count": 19,
   "metadata": {},
   "outputs": [],
   "source": [
    "class GridWorldEnv:\n",
    "    def __init__(self, N=7, M=10):\n",
    "        self.N = N\n",
    "        self.M = M\n",
    "        self.observation_space = [(i, j) for i in range(N) for j in range(M)]\n",
    "        self.action_space = [(0, 1), (0, -1), (1, 0), (-1, 0)]\n",
    "        self.terminal_states = [(3, 1), (5, 3)]\n",
    "        self.holes = [(0, 7)]\n",
    "        self.damping_states = [(6, 9), (4, 0), (1, 4)]\n",
    "        self.reset()\n",
    "\n",
    "    def reset(self):\n",
    "        self.state = (0, 0)\n",
    "        self.is_terminated = False\n",
    "        self.total_reward = 0\n",
    "\n",
    "    def get_transition_probaility(self, start_state, action, end_state):\n",
    "        if start_state in self.terminal_states:\n",
    "            return 0\n",
    "\n",
    "        expected_state = tuple(np.array(start_state) + np.array(action))\n",
    "        if expected_state in self.terminal_states:\n",
    "            return 1\n",
    "        \n",
    "        if expected_state in self.holes:\n",
    "            return 0\n",
    "\n",
    "        if expected_state[0] < 0 or expected_state[0] >= self.N or expected_state[1] < 0 or expected_state[1] >= self.M:\n",
    "            return 0\n",
    "\n",
    "        if expected_state in self.damping_states:\n",
    "            return 0.8\n",
    "        else:\n",
    "            return 0.7\n",
    "\n",
    "    def get_reward(self, start_state, action, end_state):\n",
    "        if end_state in self.terminal_states:\n",
    "            return 10\n",
    "        elif end_state in self.holes:\n",
    "            return -10\n",
    "        elif end_state in self.damping_states:\n",
    "            return -2\n",
    "        else:\n",
    "            return -1\n",
    "\n",
    "    def step(self, action):\n",
    "        if self.state in self.terminal_states:\n",
    "            self.is_terminated = True\n",
    "            reward = np.nan\n",
    "            return self.state, reward, self.is_terminated\n",
    "\n",
    "        current_state = self.state\n",
    "        next_state = None  # Initialize next_state\n",
    "        max_prob = 0\n",
    "        for possible_state in self.observation_space:\n",
    "            p = self.get_transition_probaility(current_state, action, possible_state)\n",
    "            if p > max_prob:\n",
    "                max_prob = p\n",
    "                next_state = possible_state\n",
    "\n",
    "        reward = self.get_reward(current_state, action, next_state)\n",
    "\n",
    "        self.state = next_state\n",
    "        self.total_reward += reward\n",
    "\n",
    "        return self.state, reward, self.is_terminated\n"
   ]
  },
  {
   "cell_type": "code",
   "execution_count": 20,
   "metadata": {},
   "outputs": [],
   "source": [
    "def value_iteration(env, gamma=0.9, epsilon=0.0001):\n",
    "    V = {s: 0 for s in env.observation_space}\n",
    "    while True:\n",
    "        delta = 0\n",
    "        for s in env.observation_space:\n",
    "            v = V[s]\n",
    "            max_v = float('-inf')\n",
    "            for a in env.action_space:\n",
    "                expected_v = 0\n",
    "                for s_prime in env.observation_space:\n",
    "                    r = env.get_reward(s, a, s_prime)\n",
    "                    p = env.get_transition_probaility(s, a, s_prime)\n",
    "                    expected_v += p * (r + gamma * V[s_prime])\n",
    "                max_v = max(max_v, expected_v)\n",
    "            V[s] = max_v\n",
    "            delta = max(delta, abs(v - V[s]))\n",
    "        if delta < epsilon:\n",
    "            break\n",
    "    return V"
   ]
  },
  {
   "cell_type": "code",
   "execution_count": 21,
   "metadata": {},
   "outputs": [],
   "source": [
    "def simulate_agent(env, agent, episodes=100):\n",
    "    total_rewards = []\n",
    "    for _ in range(episodes):\n",
    "        env.reset()\n",
    "        episode_reward = 0\n",
    "        while not env.is_terminated:\n",
    "            action = agent.policy()\n",
    "            _, reward, is_terminated = env.step(action)\n",
    "            episode_reward += reward\n",
    "        total_rewards.append(episode_reward)\n",
    "    avg_reward = np.mean(total_rewards)\n",
    "    return avg_reward"
   ]
  },
  {
   "cell_type": "code",
   "execution_count": 22,
   "metadata": {},
   "outputs": [],
   "source": [
    "def plot_heatmap(values, rows, cols):\n",
    "    plt.imshow(np.array(list(values.values())).reshape(rows, cols), cmap='hot', interpolation='nearest')\n",
    "    plt.colorbar()\n",
    "    plt.show()"
   ]
  },
  {
   "cell_type": "code",
   "execution_count": 23,
   "metadata": {},
   "outputs": [
    {
     "name": "stdout",
     "output_type": "stream",
     "text": [
      "Next state:  (0, 0)\n",
      "Reward:  -1\n"
     ]
    }
   ],
   "source": [
    "env = GridWorldEnv(10, 10)\n",
    "env.state\n",
    "\n",
    "action = (1, 0)\n",
    "next_state, reward, is_terminated = env.step(action)\n",
    "\n",
    "print(\"Next state: \", next_state)\n",
    "print(\"Reward: \", reward)"
   ]
  },
  {
   "cell_type": "code",
   "execution_count": 24,
   "metadata": {},
   "outputs": [],
   "source": [
    "# Create GridWorld environment\n",
    "env = GridWorldEnv(7, 10)"
   ]
  },
  {
   "cell_type": "code",
   "execution_count": null,
   "metadata": {},
   "outputs": [],
   "source": [
    "class RandomActionAgent:\n",
    "    def __init__(self, env):\n",
    "        self.env = env\n",
    "\n",
    "    def policy(self):\n",
    "        action = random.choice(self.env.action_space)[0]\n",
    "        return action\n",
    "\n",
    "env.reset()\n",
    "agent = RandomActionAgent(env)\n",
    "\n",
    "while not env.is_terminated:\n",
    "  current_state = env.state\n",
    "  action =  agent.policy()\n",
    "  next_state, reward, is_terminated = env.step(action)\n",
    "  print(current_state, action, reward, next_state)\n",
    "\n",
    "env.total_reward"
   ]
  },
  {
   "cell_type": "code",
   "execution_count": 26,
   "metadata": {},
   "outputs": [],
   "source": [
    "class DPAgent:\n",
    "  def __init__(self, env):\n",
    "    self.env = env\n",
    "    self.gamma = 1\n",
    "\n",
    "    self.v = dict(zip(self.env.observation_space, np.zeros(self.env.N*self.env.M)))\n",
    "    self.is_trained = False\n",
    "\n",
    "\n",
    "  def policy(self):\n",
    "    if not self.is_trained:\n",
    "      action = random.choices(self.env.action_space)[0]\n",
    "    else:\n",
    "      s = self.env.state\n",
    "      max = -np.inf\n",
    "      for a in self.env.action_space:\n",
    "        term = 0\n",
    "        for s_prime in self.env.observation_space:\n",
    "          term+= self.env.get_transition_probaility(s, a, s_prime) * (self.env.get_reward(s, a, s_prime) + self.gamma * self.v[s_prime])\n",
    "        if term > max:\n",
    "          max = term\n",
    "          action = a\n",
    "\n",
    "    return action\n",
    "\n",
    "  def train(self, iter_limit = 1000):\n",
    "\n",
    "    print(\"performing training...\")\n",
    "\n",
    "    self.v = dict(zip(self.env.observation_space, np.zeros(self.env.N*self.env.M)))\n",
    "\n",
    "    iter = 0\n",
    "    while iter< iter_limit:\n",
    "      for s in self.env.observation_space:\n",
    "        max = -np.inf\n",
    "        for a in self.env.action_space:\n",
    "          term2 = 0\n",
    "          for s_prime in self.env.observation_space:\n",
    "            term2+= self.env.get_transition_probaility(s, a, s_prime) * (self.env.get_reward(s, a, s_prime) + self.gamma*self.v[s_prime])\n",
    "          if term2 > max:\n",
    "            max = term2\n",
    "        self.v[s] = max\n",
    "      iter+=1\n",
    "\n",
    "    self.is_trained = True\n",
    "\n",
    "    print(np.array(list(self.v.values())).reshape(self.env.N, self.env.M))"
   ]
  },
  {
   "cell_type": "code",
   "execution_count": 27,
   "metadata": {},
   "outputs": [],
   "source": [
    "# Perform value iteration to get optimal state values\n",
    "optimal_state_values = value_iteration(env)\n"
   ]
  },
  {
   "cell_type": "code",
   "execution_count": null,
   "metadata": {},
   "outputs": [],
   "source": [
    "# Calculate average total rewards with and without training\n",
    "random_agent = RandomActionAgent(env)\n",
    "dp_agent = DPAgent(env)\n",
    "\n",
    "avg_reward_no_training = simulate_agent(env, random_agent)\n",
    "dp_agent.train(iter_limit=100)\n",
    "avg_reward_with_training = simulate_agent(env, dp_agent)\n",
    "\n",
    "# Print average rewards\n",
    "print(\"Average reward without training:\", avg_reward_no_training)\n",
    "print(\"Average reward with training:\", avg_reward_with_training)"
   ]
  },
  {
   "cell_type": "code",
   "execution_count": 30,
   "metadata": {},
   "outputs": [
    {
     "data": {
      "image/png": "[encoded data removed]",
      "text/plain": [
       "<Figure size 640x480 with 2 Axes>"
      ]
     },
     "metadata": {},
     "output_type": "display_data"
    }
   ],
   "source": [
    "\n",
    "# Create heatmap for optimal state values\n",
    "plot_heatmap(optimal_state_values, rows=7, cols=10)"
   ]
  }
 ],
 "metadata": {
  "kernelspec": {
   "display_name": "AIMLSem1",
   "language": "python",
   "name": "python3"
  },
  "language_info": {
   "codemirror_mode": {
    "name": "ipython",
    "version": 3
   },
   "file_extension": ".py",
   "mimetype": "text/x-python",
   "name": "python",
   "nbconvert_exporter": "python",
   "pygments_lexer": "ipython3",
   "version": "3.9.17"
  }
 },
 "nbformat": 4,
 "nbformat_minor": 2
}
