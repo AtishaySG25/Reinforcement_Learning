{
 "cells": [
  {
   "cell_type": "code",
   "execution_count": 1,
   "metadata": {},
   "outputs": [],
   "source": [
    "import pandas as pd\n",
    "import numpy as np\n",
    "import itertools as iter\n",
    "import random"
   ]
  },
  {
   "cell_type": "code",
   "execution_count": 2,
   "metadata": {},
   "outputs": [],
   "source": [
    "class GridWorldEnv:\n",
    "    def __init__(self, N, M):\n",
    "        #States of a gridworld\n",
    "        self.N = N\n",
    "        self.M = M\n",
    "        \n",
    "        #state space\n",
    "        self.observation_space = list(iter.product(range(N), range(M)))\n",
    "        #action space\n",
    "        self.action_space = ([0, 1], [0, -1], [1, 0], [-1, 0]) \n",
    "\n",
    "        self.terminal_states = [(3,3), (9,9)]\n",
    "        self.reset()\n",
    "        \n",
    "\n",
    "    def get_transition_probability(self, start_state, action, end_state):\n",
    "        if start_state in self.terminal_states:\n",
    "            return 0\n",
    "\n",
    "        expected_state = tuple(np.array(start_state) + np.array(action))\n",
    "        if expected_state == end_state:\n",
    "            return 1\n",
    "\n",
    "        if expected_state not in self.observation_space and start_state == end_state:\n",
    "            return 1\n",
    "\n",
    "        return 0\n",
    "\n",
    "    def get_reward(self, start_state, action, end_state):\n",
    "        if end_state in self.terminal_states:\n",
    "            return 10\n",
    "        else:\n",
    "            return -1\n",
    "\n",
    "    def step(self, action):\n",
    "        if self.state in self.terminal_states:\n",
    "            self.is_terminated = True\n",
    "            reward = np.nan\n",
    "            return self.state, reward, self.is_terminated\n",
    "        \n",
    "        current_state = self.state\n",
    "        max_prob = 0\n",
    "        for possible_state in self.observation_space:\n",
    "            p = self.get_transition_probability(current_state, action, possible_state)\n",
    "            if p>max_prob:\n",
    "                max_prob = p\n",
    "                next_state = possible_state\n",
    "\n",
    "        reward = self.get_reward(current_state, action, next_state)\n",
    "        self.state = next_state\n",
    "        self.total_reward += reward\n",
    "\n",
    "        return self.state, reward, self.is_terminated\n",
    "\n",
    "    def reset(self):\n",
    "        self.state = (0,0)\n",
    "        self.is_terminated = False\n",
    "        self.total_reward = 0   "
   ]
  },
  {
   "cell_type": "code",
   "execution_count": 3,
   "metadata": {},
   "outputs": [
    {
     "data": {
      "text/plain": [
       "(0, 0)"
      ]
     },
     "execution_count": 3,
     "metadata": {},
     "output_type": "execute_result"
    }
   ],
   "source": [
    "env = GridWorldEnv(10, 10)\n",
    "env.state"
   ]
  },
  {
   "cell_type": "code",
   "execution_count": 4,
   "metadata": {},
   "outputs": [
    {
     "name": "stdout",
     "output_type": "stream",
     "text": [
      "Next state:  (1, 0)\n",
      "Reward:  -1\n"
     ]
    }
   ],
   "source": [
    "action = (1, 0)\n",
    "next_state, reward, is_terminated = env.step(action)\n",
    "\n",
    "print(\"Next state: \", next_state)\n",
    "print(\"Reward: \", reward)"
   ]
  },
  {
   "cell_type": "markdown",
   "metadata": {},
   "source": [
    "Random Walk"
   ]
  },
  {
   "cell_type": "code",
   "execution_count": 5,
   "metadata": {},
   "outputs": [
    {
     "data": {
      "text/plain": [
       "[-1, 0]"
      ]
     },
     "execution_count": 5,
     "metadata": {},
     "output_type": "execute_result"
    }
   ],
   "source": [
    "random.choices(env.action_space)[0]"
   ]
  },
  {
   "cell_type": "code",
   "execution_count": 6,
   "metadata": {},
   "outputs": [
    {
     "data": {
      "text/plain": [
       "-3"
      ]
     },
     "execution_count": 6,
     "metadata": {},
     "output_type": "execute_result"
    }
   ],
   "source": [
    "env.reset()\n",
    "\n",
    "while not env.is_terminated:\n",
    "  current_state = env.state\n",
    "  action =  random.choices(env.action_space)[0]\n",
    "  next_state, reward, is_terminated = env.step(action)\n",
    "#   print(current_state, action, reward, next_state)\n",
    "env.total_reward"
   ]
  },
  {
   "cell_type": "code",
   "execution_count": 7,
   "metadata": {},
   "outputs": [],
   "source": [
    "class RandomActionAgentAgent:\n",
    "    def __init__(self, env):\n",
    "        self.env = env\n",
    "\n",
    "    def policy(self):\n",
    "        action = random.choices(self.env.action_space)[0]\n",
    "        return action\n",
    "    \n",
    "    def train(self):\n",
    "        pass"
   ]
  },
  {
   "cell_type": "code",
   "execution_count": 8,
   "metadata": {},
   "outputs": [
    {
     "data": {
      "text/plain": [
       "-22"
      ]
     },
     "execution_count": 8,
     "metadata": {},
     "output_type": "execute_result"
    }
   ],
   "source": [
    "env.reset()\n",
    "agent = RandomActionAgentAgent(env)\n",
    "while not env.is_terminated:\n",
    "  current_state = env.state\n",
    "  action =  agent.policy()\n",
    "  next_state, reward, is_terminated = env.step(action)\n",
    "#   print(current_state, action, reward, next_state)\n",
    "env.total_reward"
   ]
  },
  {
   "cell_type": "code",
   "execution_count": 9,
   "metadata": {},
   "outputs": [],
   "source": [
    "class DPAgent:\n",
    "  def __init__(self, env):\n",
    "    self.env = env\n",
    "    self.gamma = 1\n",
    "\n",
    "    self.v = dict(zip(self.env.observation_space, np.zeros(self.env.N*self.env.M)))\n",
    "    self.is_trained = False\n",
    "\n",
    "\n",
    "  def policy(self):\n",
    "    if not self.is_trained:\n",
    "      action = random.choices(self.env.action_space)[0]\n",
    "    else:\n",
    "      s = self.env.state\n",
    "      max = -np.inf\n",
    "      for a in self.env.action_space:\n",
    "        term = 0\n",
    "        for s_prime in self.env.observation_space:\n",
    "          term+= self.env.get_transition_probability(s, a, s_prime) * (self.env.get_reward(s, a, s_prime) + self.gamma * self.v[s_prime])\n",
    "        if term > max:\n",
    "          max = term\n",
    "          action = a\n",
    "\n",
    "    return action\n",
    "\n",
    "  def train(self, iter_limit = 1000):\n",
    "\n",
    "    print(\"performing training...\")\n",
    "\n",
    "    self.v = dict(zip(self.env.observation_space, np.zeros(self.env.N*self.env.M)))\n",
    "\n",
    "    iter = 0\n",
    "    while iter< iter_limit:\n",
    "      for s in self.env.observation_space:\n",
    "        max = -np.inf\n",
    "        for a in self.env.action_space:\n",
    "          term2 = 0\n",
    "          for s_prime in self.env.observation_space:\n",
    "            term2+= self.env.get_transition_probability(s, a, s_prime) * (self.env.get_reward(s, a, s_prime) + self.gamma*self.v[s_prime])\n",
    "          if term2 > max:\n",
    "            max = term2\n",
    "        self.v[s] = max\n",
    "      iter+=1\n",
    "\n",
    "    self.is_trained = True\n",
    "\n",
    "    print(np.array(list(self.v.values())).reshape(self.env.N, self.env.M))"
   ]
  },
  {
   "cell_type": "code",
   "execution_count": 10,
   "metadata": {},
   "outputs": [
    {
     "name": "stdout",
     "output_type": "stream",
     "text": [
      "performing training...\n"
     ]
    },
    {
     "name": "stdout",
     "output_type": "stream",
     "text": [
      "[[ 5.  6.  7.  8.  7.]\n",
      " [ 6.  7.  8.  9.  8.]\n",
      " [ 7.  8.  9. 10.  9.]\n",
      " [ 8.  9. 10.  0. 10.]\n",
      " [ 7.  8.  9. 10.  9.]]\n"
     ]
    }
   ],
   "source": [
    "env = GridWorldEnv(5,5)\n",
    "dp_agent = DPAgent(env)\n",
    "\n",
    "dp_agent.train(iter_limit = 100)"
   ]
  },
  {
   "cell_type": "code",
   "execution_count": 11,
   "metadata": {},
   "outputs": [
    {
     "name": "stdout",
     "output_type": "stream",
     "text": [
      "performing training...\n"
     ]
    },
    {
     "name": "stdout",
     "output_type": "stream",
     "text": [
      "[[ 5.  6.  7.  8.  7.  6.  5.  4.  3.  2.]\n",
      " [ 6.  7.  8.  9.  8.  7.  6.  5.  4.  3.]\n",
      " [ 7.  8.  9. 10.  9.  8.  7.  6.  5.  4.]\n",
      " [ 8.  9. 10.  0. 10.  9.  8.  7.  6.  5.]\n",
      " [ 7.  8.  9. 10.  9.  8.  7.  6.  5.  6.]\n",
      " [ 6.  7.  8.  9.  8.  7.  6.  5.  6.  7.]\n",
      " [ 5.  6.  7.  8.  7.  6.  5.  6.  7.  8.]\n",
      " [ 4.  5.  6.  7.  6.  5.  6.  7.  8.  9.]\n",
      " [ 3.  4.  5.  6.  5.  6.  7.  8.  9. 10.]\n",
      " [ 2.  3.  4.  5.  6.  7.  8.  9. 10.  0.]]\n"
     ]
    },
    {
     "data": {
      "text/plain": [
       "5"
      ]
     },
     "execution_count": 11,
     "metadata": {},
     "output_type": "execute_result"
    }
   ],
   "source": [
    "env = GridWorldEnv(10,10)\n",
    "dp_agent = DPAgent(env)\n",
    "\n",
    "dp_agent.train(iter_limit = 100)\n",
    "\n",
    "env.reset()\n",
    "\n",
    "while not env.is_terminated:\n",
    "  current_state = env.state\n",
    "  action =  dp_agent.policy()\n",
    "  next_state, reward, is_terminated = env.step(action)\n",
    "  # print(current_state, action, reward, next_state)\n",
    "\n",
    "env.total_reward"
   ]
  },
  {
   "cell_type": "code",
   "execution_count": null,
   "metadata": {},
   "outputs": [],
   "source": [
    " "
   ]
  },
  {
   "cell_type": "code",
   "execution_count": 12,
   "metadata": {},
   "outputs": [
    {
     "ename": "AttributeError",
     "evalue": "'GridWorldEnv1' object has no attribute 'N'",
     "output_type": "error",
     "traceback": [
      "\u001b[1;31m---------------------------------------------------------------------------\u001b[0m",
      "\u001b[1;31mAttributeError\u001b[0m                            Traceback (most recent call last)",
      "Cell \u001b[1;32mIn[12], line 116\u001b[0m\n\u001b[0;32m    114\u001b[0m \u001b[38;5;66;03m# Calculate average total rewards with and without training\u001b[39;00m\n\u001b[0;32m    115\u001b[0m random_agent \u001b[38;5;241m=\u001b[39m RandomActionAgentAgent(env)\n\u001b[1;32m--> 116\u001b[0m dp_agent \u001b[38;5;241m=\u001b[39m \u001b[43mDPAgent\u001b[49m\u001b[43m(\u001b[49m\u001b[43menv\u001b[49m\u001b[43m)\u001b[49m\n\u001b[0;32m    118\u001b[0m avg_reward_no_training \u001b[38;5;241m=\u001b[39m simulate_agent(env, random_agent)\n\u001b[0;32m    119\u001b[0m dp_agent\u001b[38;5;241m.\u001b[39mtrain(iter_limit\u001b[38;5;241m=\u001b[39m\u001b[38;5;241m100\u001b[39m)\n",
      "Cell \u001b[1;32mIn[9], line 6\u001b[0m, in \u001b[0;36mDPAgent.__init__\u001b[1;34m(self, env)\u001b[0m\n\u001b[0;32m      3\u001b[0m \u001b[38;5;28mself\u001b[39m\u001b[38;5;241m.\u001b[39menv \u001b[38;5;241m=\u001b[39m env\n\u001b[0;32m      4\u001b[0m \u001b[38;5;28mself\u001b[39m\u001b[38;5;241m.\u001b[39mgamma \u001b[38;5;241m=\u001b[39m \u001b[38;5;241m1\u001b[39m\n\u001b[1;32m----> 6\u001b[0m \u001b[38;5;28mself\u001b[39m\u001b[38;5;241m.\u001b[39mv \u001b[38;5;241m=\u001b[39m \u001b[38;5;28mdict\u001b[39m(\u001b[38;5;28mzip\u001b[39m(\u001b[38;5;28mself\u001b[39m\u001b[38;5;241m.\u001b[39menv\u001b[38;5;241m.\u001b[39mobservation_space, np\u001b[38;5;241m.\u001b[39mzeros(\u001b[38;5;28;43mself\u001b[39;49m\u001b[38;5;241;43m.\u001b[39;49m\u001b[43menv\u001b[49m\u001b[38;5;241;43m.\u001b[39;49m\u001b[43mN\u001b[49m\u001b[38;5;241m*\u001b[39m\u001b[38;5;28mself\u001b[39m\u001b[38;5;241m.\u001b[39menv\u001b[38;5;241m.\u001b[39mM)))\n\u001b[0;32m      7\u001b[0m \u001b[38;5;28mself\u001b[39m\u001b[38;5;241m.\u001b[39mis_trained \u001b[38;5;241m=\u001b[39m \u001b[38;5;28;01mFalse\u001b[39;00m\n",
      "\u001b[1;31mAttributeError\u001b[0m: 'GridWorldEnv1' object has no attribute 'N'"
     ]
    }
   ],
   "source": [
    "import numpy as np\n",
    "import matplotlib.pyplot as plt\n",
    "\n",
    "class GridWorldEnv1:\n",
    "    def __init__(self, rows=7, cols=10):\n",
    "        self.rows = rows\n",
    "        self.cols = cols\n",
    "        self.observation_space = [(i, j) for i in range(rows) for j in range(cols)]\n",
    "        self.action_space = [(0, 1), (0, -1), (1, 0), (-1, 0)]\n",
    "        self.terminal_states = [(3, 1), (5, 3)]\n",
    "        self.holes = [(0, 7)]\n",
    "        self.damping_states = [(6, 9), (4, 0), (1, 4)]\n",
    "        self.reset()\n",
    "\n",
    "    def reset(self):\n",
    "        self.state = (0, 0)\n",
    "        self.is_terminated = False\n",
    "        self.total_reward = 0\n",
    "\n",
    "    def get_transition_probaility(self, start_state, action, end_state):\n",
    "        if start_state in self.terminal_states:\n",
    "            return 0\n",
    "\n",
    "        expected_state = tuple(np.array(start_state) + np.array(action))\n",
    "        if expected_state in self.terminal_states:\n",
    "            return 1\n",
    "        \n",
    "        if expected_state in self.holes:\n",
    "            return 0\n",
    "\n",
    "        if expected_state[0] < 0 or expected_state[0] >= self.rows or expected_state[1] < 0 or expected_state[1] >= self.cols:\n",
    "            return 0\n",
    "\n",
    "        if expected_state in self.damping_states:\n",
    "            return 0.8\n",
    "        else:\n",
    "            return 0.7\n",
    "\n",
    "    def get_reward(self, start_state, action, end_state):\n",
    "        if end_state in self.terminal_states:\n",
    "            return 10\n",
    "        elif end_state in self.holes:\n",
    "            return -10\n",
    "        elif end_state in self.damping_states:\n",
    "            return -2\n",
    "        else:\n",
    "            return -1\n",
    "\n",
    "    def step(self, action):\n",
    "        if self.state in self.terminal_states:\n",
    "            self.is_terminated = True\n",
    "            reward = np.nan\n",
    "            return self.state, reward, self.is_terminated\n",
    "\n",
    "        current_state = self.state\n",
    "        max_prob = 0\n",
    "        for possible_state in self.observation_space:\n",
    "            p = self.get_transition_probaility(current_state, action, possible_state)\n",
    "            if p > max_prob:\n",
    "                max_prob = p\n",
    "                next_state = possible_state\n",
    "\n",
    "        reward = self.get_reward(current_state, action, next_state)\n",
    "\n",
    "        self.state = next_state\n",
    "        self.total_reward += reward\n",
    "\n",
    "        return self.state, reward, self.is_terminated\n",
    "\n",
    "def value_iteration(env, gamma=0.9, epsilon=0.0001):\n",
    "    V = {s: 0 for s in env.observation_space}\n",
    "    while True:\n",
    "        delta = 0\n",
    "        for s in env.observation_space:\n",
    "            v = V[s]\n",
    "            max_v = float('-inf')\n",
    "            for a in env.action_space:\n",
    "                expected_v = 0\n",
    "                for s_prime in env.observation_space:\n",
    "                    r = env.get_reward(s, a, s_prime)\n",
    "                    p = env.get_transition_probaility(s, a, s_prime)\n",
    "                    expected_v += p * (r + gamma * V[s_prime])\n",
    "                max_v = max(max_v, expected_v)\n",
    "            V[s] = max_v\n",
    "            delta = max(delta, abs(v - V[s]))\n",
    "        if delta < epsilon:\n",
    "            break\n",
    "    return V\n",
    "\n",
    "def simulate_agent(env, agent, episodes=100):\n",
    "    total_rewards = []\n",
    "    for _ in range(episodes):\n",
    "        env.reset()\n",
    "        episode_reward = 0\n",
    "        while not env.is_terminated:\n",
    "            action = agent.policy()\n",
    "            _, reward, is_terminated = env.step(action)\n",
    "            episode_reward += reward\n",
    "        total_rewards.append(episode_reward)\n",
    "    avg_reward = np.mean(total_rewards)\n",
    "    return avg_reward\n",
    "\n",
    "def plot_heatmap(values, rows, cols):\n",
    "    plt.imshow(np.array(list(values.values())).reshape(rows, cols), cmap='hot', interpolation='nearest')\n",
    "    plt.colorbar()\n",
    "    plt.show()\n",
    "\n",
    "# Create GridWorld environment\n",
    "env = GridWorldEnv1(rows=7, cols=10)\n",
    "\n",
    "# Perform value iteration to get optimal state values\n",
    "optimal_state_values = value_iteration(env)\n",
    "\n",
    "# Calculate average total rewards with and without training\n",
    "random_agent = RandomActionAgentAgent(env)\n",
    "dp_agent = DPAgent(env)\n",
    "\n",
    "avg_reward_no_training = simulate_agent(env, random_agent)\n",
    "dp_agent.train(iter_limit=100)\n",
    "avg_reward_with_training = simulate_agent(env, dp_agent)\n",
    "\n",
    "# Print average rewards\n",
    "print(\"Average reward without training:\", avg_reward_no_training)\n",
    "print(\"Average reward with training:\", avg_reward_with_training)\n",
    "\n",
    "# Create heatmap for optimal state values\n",
    "plot_heatmap(optimal_state_values, rows=7, cols=10)\n"
   ]
  }
 ],
 "metadata": {
  "kernelspec": {
   "display_name": "AIMLSem1",
   "language": "python",
   "name": "python3"
  },
  "language_info": {
   "codemirror_mode": {
    "name": "ipython",
    "version": 3
   },
   "file_extension": ".py",
   "mimetype": "text/x-python",
   "name": "python",
   "nbconvert_exporter": "python",
   "pygments_lexer": "ipython3",
   "version": "3.9.17"
  }
 },
 "nbformat": 4,
 "nbformat_minor": 2
}
